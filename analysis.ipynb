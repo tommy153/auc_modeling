{
 "cells": [
  {
   "cell_type": "code",
   "execution_count": 1,
   "id": "c656ff0a",
   "metadata": {},
   "outputs": [
    {
     "name": "stdout",
     "output_type": "stream",
     "text": [
<<<<<<< HEAD
      "[2025-09-30 19:13:59.226242] Google Sheet 데이터 로드\n",
      "[2025-09-30 19:14:06.860894] 데이터 로드 성공: 37798행, 35열\n",
      "[2025-09-30 19:14:06.888882] 전처리 시작\n",
      "[2025-09-30 19:14:07.606909] 전처리 완료: shape=(37788, 17)\n"
=======
      "[2025-09-29 23:48:59.966213] Google Sheet 데이터 로드\n",
      "[2025-09-29 23:49:12.629910] 데이터 로드 성공: 37764행, 35열\n",
      "[2025-09-29 23:49:12.656882] 전처리 시작\n",
      "[2025-09-29 23:49:13.234133] 전처리 완료: shape=(37754, 17)\n"
>>>>>>> origin/main
     ]
    }
   ],
   "source": [
    "import pandas as pd\n",
    "import numpy as np\n",
    "import matplotlib.pyplot as plt\n",
    "import seaborn as sns\n",
    "\n",
    "from utils.load_googlesheet import *\n",
    "\n",
    "# 업데이트된 전처리 함수로 데이터 다시 로드\n",
    "df = load_google_sheets_data(\"이탈_RAW\")\n",
    "df_processed = processing_google_sheet(df)"
   ]
  },
  {
   "cell_type": "code",
<<<<<<< HEAD
   "execution_count": null,
   "id": "38380566",
   "metadata": {},
   "outputs": [
    {
     "data": {
      "application/vnd.plotly.v1+json": {
       "config": {
        "plotlyServerURL": "https://plot.ly"
       },
       "data": [
        {
         "hovertemplate": "결제등록일=%{x}<br>수업 수=%{text}<extra></extra>",
         "legendgroup": "",
         "marker": {
          "color": "#636efa",
          "pattern": {
           "shape": ""
          }
         },
         "name": "",
         "orientation": "v",
         "showlegend": false,
         "text": {
          "bdata": "AAAAAAAEokAAAAAAANSWQAAAAAAAhJ1AAAAAAAAolUAAAAAAAFKhQAAAAAAArJRAAAAAAABIp0AAAAAAAD6jQAAAAAAAmJlAAAAAAADkm0AAAAAAAGSaQAAAAAAAFJ1AAAAAAAA8oEAAAAAAANSaQAAAAAAAzJ1AAAAAAAB4kkAAAAAAADSgQAAAAAAAMJNAAAAAAABkoUAAAAAAANCVQAAAAAAAsI9A",
          "dtype": "f8"
         },
         "textposition": "outside",
         "type": "bar",
         "x": [
          "2024-01-31T00:00:00",
          "2024-02-29T00:00:00",
          "2024-03-31T00:00:00",
          "2024-04-30T00:00:00",
          "2024-05-31T00:00:00",
          "2024-06-30T00:00:00",
          "2024-07-31T00:00:00",
          "2024-08-31T00:00:00",
          "2024-09-30T00:00:00",
          "2024-10-31T00:00:00",
          "2024-11-30T00:00:00",
          "2024-12-31T00:00:00",
          "2025-01-31T00:00:00",
          "2025-02-28T00:00:00",
          "2025-03-31T00:00:00",
          "2025-04-30T00:00:00",
          "2025-05-31T00:00:00",
          "2025-06-30T00:00:00",
          "2025-07-31T00:00:00",
          "2025-08-31T00:00:00",
          "2025-09-30T00:00:00"
         ],
         "xaxis": "x",
         "y": {
          "bdata": "Agm1BWEHSgWpCCsFpAufCWYG+QaZBkUHHgi1BnMHngQaCMwEsgh0BfYD",
          "dtype": "i2"
         },
         "yaxis": "y"
        }
       ],
       "layout": {
        "barmode": "relative",
        "legend": {
         "tracegroupgap": 0
        },
        "template": {
         "data": {
          "bar": [
           {
            "error_x": {
             "color": "#2a3f5f"
            },
            "error_y": {
             "color": "#2a3f5f"
            },
            "marker": {
             "line": {
              "color": "white",
              "width": 0.5
             },
             "pattern": {
              "fillmode": "overlay",
              "size": 10,
              "solidity": 0.2
             }
            },
            "type": "bar"
           }
          ],
          "barpolar": [
           {
            "marker": {
             "line": {
              "color": "white",
              "width": 0.5
             },
             "pattern": {
              "fillmode": "overlay",
              "size": 10,
              "solidity": 0.2
             }
            },
            "type": "barpolar"
           }
          ],
          "carpet": [
           {
            "aaxis": {
             "endlinecolor": "#2a3f5f",
             "gridcolor": "#C8D4E3",
             "linecolor": "#C8D4E3",
             "minorgridcolor": "#C8D4E3",
             "startlinecolor": "#2a3f5f"
            },
            "baxis": {
             "endlinecolor": "#2a3f5f",
             "gridcolor": "#C8D4E3",
             "linecolor": "#C8D4E3",
             "minorgridcolor": "#C8D4E3",
             "startlinecolor": "#2a3f5f"
            },
            "type": "carpet"
           }
          ],
          "choropleth": [
           {
            "colorbar": {
             "outlinewidth": 0,
             "ticks": ""
            },
            "type": "choropleth"
           }
          ],
          "contour": [
           {
            "colorbar": {
             "outlinewidth": 0,
             "ticks": ""
            },
            "colorscale": [
             [
              0,
              "#0d0887"
             ],
             [
              0.1111111111111111,
              "#46039f"
             ],
             [
              0.2222222222222222,
              "#7201a8"
             ],
             [
              0.3333333333333333,
              "#9c179e"
             ],
             [
              0.4444444444444444,
              "#bd3786"
             ],
             [
              0.5555555555555556,
              "#d8576b"
             ],
             [
              0.6666666666666666,
              "#ed7953"
             ],
             [
              0.7777777777777778,
              "#fb9f3a"
             ],
             [
              0.8888888888888888,
              "#fdca26"
             ],
             [
              1,
              "#f0f921"
             ]
            ],
            "type": "contour"
           }
          ],
          "contourcarpet": [
           {
            "colorbar": {
             "outlinewidth": 0,
             "ticks": ""
            },
            "type": "contourcarpet"
           }
          ],
          "heatmap": [
           {
            "colorbar": {
             "outlinewidth": 0,
             "ticks": ""
            },
            "colorscale": [
             [
              0,
              "#0d0887"
             ],
             [
              0.1111111111111111,
              "#46039f"
             ],
             [
              0.2222222222222222,
              "#7201a8"
             ],
             [
              0.3333333333333333,
              "#9c179e"
             ],
             [
              0.4444444444444444,
              "#bd3786"
             ],
             [
              0.5555555555555556,
              "#d8576b"
             ],
             [
              0.6666666666666666,
              "#ed7953"
             ],
             [
              0.7777777777777778,
              "#fb9f3a"
             ],
             [
              0.8888888888888888,
              "#fdca26"
             ],
             [
              1,
              "#f0f921"
             ]
            ],
            "type": "heatmap"
           }
          ],
          "histogram": [
           {
            "marker": {
             "pattern": {
              "fillmode": "overlay",
              "size": 10,
              "solidity": 0.2
             }
            },
            "type": "histogram"
           }
          ],
          "histogram2d": [
           {
            "colorbar": {
             "outlinewidth": 0,
             "ticks": ""
            },
            "colorscale": [
             [
              0,
              "#0d0887"
             ],
             [
              0.1111111111111111,
              "#46039f"
             ],
             [
              0.2222222222222222,
              "#7201a8"
             ],
             [
              0.3333333333333333,
              "#9c179e"
             ],
             [
              0.4444444444444444,
              "#bd3786"
             ],
             [
              0.5555555555555556,
              "#d8576b"
             ],
             [
              0.6666666666666666,
              "#ed7953"
             ],
             [
              0.7777777777777778,
              "#fb9f3a"
             ],
             [
              0.8888888888888888,
              "#fdca26"
             ],
             [
              1,
              "#f0f921"
             ]
            ],
            "type": "histogram2d"
           }
          ],
          "histogram2dcontour": [
           {
            "colorbar": {
             "outlinewidth": 0,
             "ticks": ""
            },
            "colorscale": [
             [
              0,
              "#0d0887"
             ],
             [
              0.1111111111111111,
              "#46039f"
             ],
             [
              0.2222222222222222,
              "#7201a8"
             ],
             [
              0.3333333333333333,
              "#9c179e"
             ],
             [
              0.4444444444444444,
              "#bd3786"
             ],
             [
              0.5555555555555556,
              "#d8576b"
             ],
             [
              0.6666666666666666,
              "#ed7953"
             ],
             [
              0.7777777777777778,
              "#fb9f3a"
             ],
             [
              0.8888888888888888,
              "#fdca26"
             ],
             [
              1,
              "#f0f921"
             ]
            ],
            "type": "histogram2dcontour"
           }
          ],
          "mesh3d": [
           {
            "colorbar": {
             "outlinewidth": 0,
             "ticks": ""
            },
            "type": "mesh3d"
           }
          ],
          "parcoords": [
           {
            "line": {
             "colorbar": {
              "outlinewidth": 0,
              "ticks": ""
             }
            },
            "type": "parcoords"
           }
          ],
          "pie": [
           {
            "automargin": true,
            "type": "pie"
           }
          ],
          "scatter": [
           {
            "fillpattern": {
             "fillmode": "overlay",
             "size": 10,
             "solidity": 0.2
            },
            "type": "scatter"
           }
          ],
          "scatter3d": [
           {
            "line": {
             "colorbar": {
              "outlinewidth": 0,
              "ticks": ""
             }
            },
            "marker": {
             "colorbar": {
              "outlinewidth": 0,
              "ticks": ""
             }
            },
            "type": "scatter3d"
           }
          ],
          "scattercarpet": [
           {
            "marker": {
             "colorbar": {
              "outlinewidth": 0,
              "ticks": ""
             }
            },
            "type": "scattercarpet"
           }
          ],
          "scattergeo": [
           {
            "marker": {
             "colorbar": {
              "outlinewidth": 0,
              "ticks": ""
             }
            },
            "type": "scattergeo"
           }
          ],
          "scattergl": [
           {
            "marker": {
             "colorbar": {
              "outlinewidth": 0,
              "ticks": ""
             }
            },
            "type": "scattergl"
           }
          ],
          "scattermap": [
           {
            "marker": {
             "colorbar": {
              "outlinewidth": 0,
              "ticks": ""
             }
            },
            "type": "scattermap"
           }
          ],
          "scattermapbox": [
           {
            "marker": {
             "colorbar": {
              "outlinewidth": 0,
              "ticks": ""
             }
            },
            "type": "scattermapbox"
           }
          ],
          "scatterpolar": [
           {
            "marker": {
             "colorbar": {
              "outlinewidth": 0,
              "ticks": ""
             }
            },
            "type": "scatterpolar"
           }
          ],
          "scatterpolargl": [
           {
            "marker": {
             "colorbar": {
              "outlinewidth": 0,
              "ticks": ""
             }
            },
            "type": "scatterpolargl"
           }
          ],
          "scatterternary": [
           {
            "marker": {
             "colorbar": {
              "outlinewidth": 0,
              "ticks": ""
             }
            },
            "type": "scatterternary"
           }
          ],
          "surface": [
           {
            "colorbar": {
             "outlinewidth": 0,
             "ticks": ""
            },
            "colorscale": [
             [
              0,
              "#0d0887"
             ],
             [
              0.1111111111111111,
              "#46039f"
             ],
             [
              0.2222222222222222,
              "#7201a8"
             ],
             [
              0.3333333333333333,
              "#9c179e"
             ],
             [
              0.4444444444444444,
              "#bd3786"
             ],
             [
              0.5555555555555556,
              "#d8576b"
             ],
             [
              0.6666666666666666,
              "#ed7953"
             ],
             [
              0.7777777777777778,
              "#fb9f3a"
             ],
             [
              0.8888888888888888,
              "#fdca26"
             ],
             [
              1,
              "#f0f921"
             ]
            ],
            "type": "surface"
           }
          ],
          "table": [
           {
            "cells": {
             "fill": {
              "color": "#EBF0F8"
             },
             "line": {
              "color": "white"
             }
            },
            "header": {
             "fill": {
              "color": "#C8D4E3"
             },
             "line": {
              "color": "white"
             }
            },
            "type": "table"
           }
          ]
         },
         "layout": {
          "annotationdefaults": {
           "arrowcolor": "#2a3f5f",
           "arrowhead": 0,
           "arrowwidth": 1
          },
          "autotypenumbers": "strict",
          "coloraxis": {
           "colorbar": {
            "outlinewidth": 0,
            "ticks": ""
           }
          },
          "colorscale": {
           "diverging": [
            [
             0,
             "#8e0152"
            ],
            [
             0.1,
             "#c51b7d"
            ],
            [
             0.2,
             "#de77ae"
            ],
            [
             0.3,
             "#f1b6da"
            ],
            [
             0.4,
             "#fde0ef"
            ],
            [
             0.5,
             "#f7f7f7"
            ],
            [
             0.6,
             "#e6f5d0"
            ],
            [
             0.7,
             "#b8e186"
            ],
            [
             0.8,
             "#7fbc41"
            ],
            [
             0.9,
             "#4d9221"
            ],
            [
             1,
             "#276419"
            ]
           ],
           "sequential": [
            [
             0,
             "#0d0887"
            ],
            [
             0.1111111111111111,
             "#46039f"
            ],
            [
             0.2222222222222222,
             "#7201a8"
            ],
            [
             0.3333333333333333,
             "#9c179e"
            ],
            [
             0.4444444444444444,
             "#bd3786"
            ],
            [
             0.5555555555555556,
             "#d8576b"
            ],
            [
             0.6666666666666666,
             "#ed7953"
            ],
            [
             0.7777777777777778,
             "#fb9f3a"
            ],
            [
             0.8888888888888888,
             "#fdca26"
            ],
            [
             1,
             "#f0f921"
            ]
           ],
           "sequentialminus": [
            [
             0,
             "#0d0887"
            ],
            [
             0.1111111111111111,
             "#46039f"
            ],
            [
             0.2222222222222222,
             "#7201a8"
            ],
            [
             0.3333333333333333,
             "#9c179e"
            ],
            [
             0.4444444444444444,
             "#bd3786"
            ],
            [
             0.5555555555555556,
             "#d8576b"
            ],
            [
             0.6666666666666666,
             "#ed7953"
            ],
            [
             0.7777777777777778,
             "#fb9f3a"
            ],
            [
             0.8888888888888888,
             "#fdca26"
            ],
            [
             1,
             "#f0f921"
            ]
           ]
          },
          "colorway": [
           "#636efa",
           "#EF553B",
           "#00cc96",
           "#ab63fa",
           "#FFA15A",
           "#19d3f3",
           "#FF6692",
           "#B6E880",
           "#FF97FF",
           "#FECB52"
          ],
          "font": {
           "color": "#2a3f5f"
          },
          "geo": {
           "bgcolor": "white",
           "lakecolor": "white",
           "landcolor": "white",
           "showlakes": true,
           "showland": true,
           "subunitcolor": "#C8D4E3"
          },
          "hoverlabel": {
           "align": "left"
          },
          "hovermode": "closest",
          "mapbox": {
           "style": "light"
          },
          "paper_bgcolor": "white",
          "plot_bgcolor": "white",
          "polar": {
           "angularaxis": {
            "gridcolor": "#EBF0F8",
            "linecolor": "#EBF0F8",
            "ticks": ""
           },
           "bgcolor": "white",
           "radialaxis": {
            "gridcolor": "#EBF0F8",
            "linecolor": "#EBF0F8",
            "ticks": ""
           }
          },
          "scene": {
           "xaxis": {
            "backgroundcolor": "white",
            "gridcolor": "#DFE8F3",
            "gridwidth": 2,
            "linecolor": "#EBF0F8",
            "showbackground": true,
            "ticks": "",
            "zerolinecolor": "#EBF0F8"
           },
           "yaxis": {
            "backgroundcolor": "white",
            "gridcolor": "#DFE8F3",
            "gridwidth": 2,
            "linecolor": "#EBF0F8",
            "showbackground": true,
            "ticks": "",
            "zerolinecolor": "#EBF0F8"
           },
           "zaxis": {
            "backgroundcolor": "white",
            "gridcolor": "#DFE8F3",
            "gridwidth": 2,
            "linecolor": "#EBF0F8",
            "showbackground": true,
            "ticks": "",
            "zerolinecolor": "#EBF0F8"
           }
          },
          "shapedefaults": {
           "line": {
            "color": "#2a3f5f"
           }
          },
          "ternary": {
           "aaxis": {
            "gridcolor": "#DFE8F3",
            "linecolor": "#A2B1C6",
            "ticks": ""
           },
           "baxis": {
            "gridcolor": "#DFE8F3",
            "linecolor": "#A2B1C6",
            "ticks": ""
           },
           "bgcolor": "white",
           "caxis": {
            "gridcolor": "#DFE8F3",
            "linecolor": "#A2B1C6",
            "ticks": ""
           }
          },
          "title": {
           "x": 0.05
          },
          "xaxis": {
           "automargin": true,
           "gridcolor": "#EBF0F8",
           "linecolor": "#EBF0F8",
           "ticks": "",
           "title": {
            "standoff": 15
           },
           "zerolinecolor": "#EBF0F8",
           "zerolinewidth": 2
          },
          "yaxis": {
           "automargin": true,
           "gridcolor": "#EBF0F8",
           "linecolor": "#EBF0F8",
           "ticks": "",
           "title": {
            "standoff": 15
           },
           "zerolinecolor": "#EBF0F8",
           "zerolinewidth": 2
          }
         }
        },
        "title": {
         "text": "월별 신규 수업 시작 수"
        },
        "xaxis": {
         "anchor": "y",
         "domain": [
          0,
          1
         ],
         "dtick": "M1",
         "tickformat": "%Y-%m",
         "tickmode": "linear",
         "title": {
          "text": "년월"
         }
        },
        "yaxis": {
         "anchor": "x",
         "domain": [
          0,
          1
         ],
         "title": {
          "text": "수업 수"
         }
        }
       }
      }
     },
     "metadata": {},
     "output_type": "display_data"
    }
   ],
   "source": [
    "# 월 단위 그룹화\n",
    "df_monthly = (\n",
    "    df_processed\n",
    "    .groupby(pd.Grouper(key='결제등록일', freq='M'))\n",
    "    .size()\n",
    "    .reset_index(name='수업 수')\n",
    ")\n",
    "\n",
    "import plotly.express as px\n",
    "\n",
    "fig = px.bar(\n",
    "    df_monthly,\n",
    "    x=\"결제등록일\",\n",
    "    y=\"수업 수\",\n",
    "    text=\"수업 수\",\n",
    "    title=\"월별 신규 수업 시작 수\"\n",
    ")\n",
    "\n",
    "fig.update_traces(textposition=\"outside\")\n",
    "\n",
    "fig.update_layout(\n",
    "    xaxis_title=\"년월\",\n",
    "    yaxis_title=\"수업 수\",\n",
    "    template=\"plotly_white\",\n",
    "    xaxis=dict(\n",
    "        tickmode=\"linear\",          # 축 간격을 균등하게\n",
    "        dtick=\"M1\",                 # 1개월 단위로 tick\n",
    "        tickformat=\"%Y-%m\"          # YYYY-MM 형식\n",
    "    )\n",
    ")\n",
    "\n",
    "fig.show()"
   ]
  },
  {
   "cell_type": "code",
=======
>>>>>>> origin/main
   "execution_count": 2,
   "id": "e90380b4",
   "metadata": {},
   "outputs": [
    {
     "name": "stdout",
     "output_type": "stream",
     "text": [
      "한글 폰트 설정 완료: Malgun Gothic\n"
     ]
    },
    {
     "data": {
      "image/png": "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",
      "text/plain": [
       "<Figure size 400x300 with 1 Axes>"
      ]
     },
     "metadata": {},
     "output_type": "display_data"
    }
   ],
   "source": [
    "from utils.korean_font_setup import setup_korean_font"
   ]
  },
  {
   "cell_type": "code",
<<<<<<< HEAD
   "execution_count": 32,
   "id": "b00a8485",
   "metadata": {},
   "outputs": [
    {
     "data": {
      "text/plain": [
       "최초 개월 수\n",
       "3     30902\n",
       "6      3481\n",
       "1      3169\n",
       "12      216\n",
       "2         6\n",
       "4         5\n",
       "5         5\n",
       "10        2\n",
       "11        1\n",
       "9         1\n",
       "Name: count, dtype: int64"
      ]
     },
     "execution_count": 32,
     "metadata": {},
     "output_type": "execute_result"
    }
   ],
   "source": [
    "df_processed['최초 개월 수'].value_counts()"
   ]
  },
  {
   "cell_type": "code",
   "execution_count": 8,
=======
   "execution_count": 3,
>>>>>>> origin/main
   "id": "88a36fc2",
   "metadata": {},
   "outputs": [
    {
     "data": {
      "text/html": [
       "<div>\n",
       "<style scoped>\n",
       "    .dataframe tbody tr th:only-of-type {\n",
       "        vertical-align: middle;\n",
       "    }\n",
       "\n",
       "    .dataframe tbody tr th {\n",
       "        vertical-align: top;\n",
       "    }\n",
       "\n",
       "    .dataframe thead th {\n",
       "        text-align: right;\n",
       "    }\n",
       "</style>\n",
       "<table border=\"1\" class=\"dataframe\">\n",
       "  <thead>\n",
       "    <tr style=\"text-align: right;\">\n",
       "      <th></th>\n",
       "      <th>duration</th>\n",
       "      <th>event</th>\n",
       "      <th>step</th>\n",
       "    </tr>\n",
       "  </thead>\n",
       "  <tbody>\n",
       "    <tr>\n",
       "      <th>0</th>\n",
       "      <td>427</td>\n",
       "      <td>1</td>\n",
       "      <td>9</td>\n",
       "    </tr>\n",
       "    <tr>\n",
       "      <th>1</th>\n",
       "      <td>175</td>\n",
       "      <td>1</td>\n",
       "      <td>9</td>\n",
       "    </tr>\n",
       "    <tr>\n",
       "      <th>2</th>\n",
       "      <td>273</td>\n",
       "      <td>1</td>\n",
       "      <td>9</td>\n",
       "    </tr>\n",
       "    <tr>\n",
       "      <th>3</th>\n",
       "      <td>105</td>\n",
       "      <td>1</td>\n",
       "      <td>8</td>\n",
       "    </tr>\n",
       "    <tr>\n",
       "      <th>4</th>\n",
       "      <td>490</td>\n",
       "      <td>1</td>\n",
       "      <td>9</td>\n",
       "    </tr>\n",
       "  </tbody>\n",
       "</table>\n",
       "</div>"
      ],
      "text/plain": [
       "   duration  event  step\n",
       "0       427      1     9\n",
       "1       175      1     9\n",
       "2       273      1     9\n",
       "3       105      1     8\n",
       "4       490      1     9"
      ]
     },
<<<<<<< HEAD
     "execution_count": 8,
=======
     "execution_count": 3,
>>>>>>> origin/main
     "metadata": {},
     "output_type": "execute_result"
    }
   ],
   "source": [
    "from lifelines import KaplanMeierFitter, CoxPHFitter\n",
    "\n",
    "df_km = pd.DataFrame({\n",
    "    \"duration\" : df_processed['duration_days'],\n",
    "    \"event\": df_processed['이탈여부'],\n",
    "    \"step\" : df_processed['단계']\n",
    "})\n",
    "\n",
    "df_km.head()"
   ]
  },
  {
<<<<<<< HEAD
=======
   "cell_type": "code",
   "execution_count": 4,
   "id": "edc869b0",
   "metadata": {},
   "outputs": [
    {
     "data": {
      "text/html": [
       "<div>\n",
       "<style scoped>\n",
       "    .dataframe tbody tr th:only-of-type {\n",
       "        vertical-align: middle;\n",
       "    }\n",
       "\n",
       "    .dataframe tbody tr th {\n",
       "        vertical-align: top;\n",
       "    }\n",
       "\n",
       "    .dataframe thead th {\n",
       "        text-align: right;\n",
       "    }\n",
       "</style>\n",
       "<table border=\"1\" class=\"dataframe\">\n",
       "  <thead>\n",
       "    <tr style=\"text-align: right;\">\n",
       "      <th></th>\n",
       "      <th>단계</th>\n",
       "      <th>payment_regdate</th>\n",
       "      <th>이탈여부</th>\n",
       "      <th>user_No</th>\n",
       "      <th>lvt</th>\n",
       "      <th>과외상태</th>\n",
       "      <th>stage_count</th>\n",
       "      <th>cycle_count</th>\n",
       "      <th>수업상태</th>\n",
       "      <th>과외일정</th>\n",
       "      <th>...</th>\n",
       "      <th>email_id</th>\n",
       "      <th>done_month</th>\n",
       "      <th>교과/탐구</th>\n",
       "      <th>학년</th>\n",
       "      <th>option</th>\n",
       "      <th>중단예정일</th>\n",
       "      <th>중단 예정 DONEMONTH</th>\n",
       "      <th>최초 개월 수</th>\n",
       "      <th>done_count</th>\n",
       "      <th>glvt_no</th>\n",
       "    </tr>\n",
       "  </thead>\n",
       "  <tbody>\n",
       "    <tr>\n",
       "      <th>1242</th>\n",
       "      <td>4</td>\n",
       "      <td>2024-01-15 11:31</td>\n",
       "      <td>P</td>\n",
       "      <td>622345</td>\n",
       "      <td>80417</td>\n",
       "      <td>FINISH</td>\n",
       "      <td>1</td>\n",
       "      <td>2</td>\n",
       "      <td>RESERVATION</td>\n",
       "      <td>2024-01-24 16:00:00</td>\n",
       "      <td>...</td>\n",
       "      <td>parksb9914@gmail.com</td>\n",
       "      <td>0</td>\n",
       "      <td>교과</td>\n",
       "      <td>고3</td>\n",
       "      <td>W1_H60</td>\n",
       "      <td>2024-01-25 17:23</td>\n",
       "      <td>0</td>\n",
       "      <td>12</td>\n",
       "      <td>1</td>\n",
       "      <td></td>\n",
       "    </tr>\n",
       "  </tbody>\n",
       "</table>\n",
       "<p>1 rows × 35 columns</p>\n",
       "</div>"
      ],
      "text/plain": [
       "     단계   payment_regdate 이탈여부 user_No    lvt    과외상태 stage_count cycle_count  \\\n",
       "1242  4  2024-01-15 11:31    P  622345  80417  FINISH           1           2   \n",
       "\n",
       "             수업상태                 과외일정  ...              email_id done_month  \\\n",
       "1242  RESERVATION  2024-01-24 16:00:00  ...  parksb9914@gmail.com          0   \n",
       "\n",
       "     교과/탐구  학년  option             중단예정일 중단 예정 DONEMONTH 최초 개월 수 done_count  \\\n",
       "1242    교과  고3  W1_H60  2024-01-25 17:23               0      12          1   \n",
       "\n",
       "     glvt_no  \n",
       "1242          \n",
       "\n",
       "[1 rows x 35 columns]"
      ]
     },
     "execution_count": 4,
     "metadata": {},
     "output_type": "execute_result"
    }
   ],
   "source": [
    "df[(df['이탈여부']=='P') & (df['단계']=='4') & (df['done_month'] == '0')]"
   ]
  },
  {
>>>>>>> origin/main
   "cell_type": "markdown",
   "id": "fb419efb",
   "metadata": {},
   "source": [
    "### 단계\n",
    "- 1단계: 결제는 되었으나 신청서도 작성 안 된 상태\n",
    "- 2단계: 신청은 했으나 매칭/수업 시작 전\n",
    "- 3단계: 선생님 매칭까지 되었으나 수업 시작 전\n",
    "- 4단계: 수업 예약/진행/완료 중인 상태\n",
    "- 5단계: 첫 수업 후 특별 옵션 옵션 케이스\n",
    "- 6단계: 1개월 내 이탈한 케이스"
   ]
  },
  {
   "cell_type": "code",
<<<<<<< HEAD
   "execution_count": 7,
=======
   "execution_count": 4,
>>>>>>> origin/main
   "id": "b3627db8",
   "metadata": {},
   "outputs": [
    {
     "data": {
      "text/plain": [
       "step\n",
<<<<<<< HEAD
       "1    1856\n",
       "2     338\n",
       "3      12\n",
       "Name: count, dtype: int64"
      ]
     },
     "execution_count": 7,
=======
       "1    1876\n",
       "3    1432\n",
       "2     408\n",
       "4       1\n",
       "Name: count, dtype: int64"
      ]
     },
     "execution_count": 4,
>>>>>>> origin/main
     "metadata": {},
     "output_type": "execute_result"
    }
   ],
   "source": [
    "df_km[(df_km['duration'] == 0) & (df_km['event']==1)]['step'].value_counts()"
   ]
  },
  {
   "cell_type": "code",
<<<<<<< HEAD
   "execution_count": 9,
=======
   "execution_count": 4,
>>>>>>> origin/main
   "id": "4053047a",
   "metadata": {},
   "outputs": [
    {
     "data": {
      "text/html": [
       "<div>\n",
       "<style scoped>\n",
       "    .dataframe tbody tr th:only-of-type {\n",
       "        vertical-align: middle;\n",
       "    }\n",
       "\n",
       "    .dataframe tbody tr th {\n",
       "        vertical-align: top;\n",
       "    }\n",
       "\n",
       "    .dataframe thead th {\n",
       "        text-align: right;\n",
       "    }\n",
       "</style>\n",
       "<table border=\"1\" class=\"dataframe\">\n",
       "  <thead>\n",
       "    <tr style=\"text-align: right;\">\n",
       "      <th></th>\n",
       "      <th>KM Estimate</th>\n",
       "    </tr>\n",
       "    <tr>\n",
       "      <th>timeline</th>\n",
       "      <th></th>\n",
       "    </tr>\n",
       "  </thead>\n",
       "  <tbody>\n",
       "    <tr>\n",
       "      <th>0.0</th>\n",
<<<<<<< HEAD
       "      <td>0.941622</td>\n",
       "    </tr>\n",
       "    <tr>\n",
       "      <th>7.0</th>\n",
       "      <td>0.856217</td>\n",
       "    </tr>\n",
       "    <tr>\n",
       "      <th>14.0</th>\n",
       "      <td>0.838172</td>\n",
       "    </tr>\n",
       "    <tr>\n",
       "      <th>21.0</th>\n",
       "      <td>0.821791</td>\n",
       "    </tr>\n",
       "    <tr>\n",
       "      <th>28.0</th>\n",
       "      <td>0.785934</td>\n",
=======
       "      <td>0.856360</td>\n",
       "    </tr>\n",
       "    <tr>\n",
       "      <th>7.0</th>\n",
       "      <td>0.838318</td>\n",
       "    </tr>\n",
       "    <tr>\n",
       "      <th>14.0</th>\n",
       "      <td>0.821883</td>\n",
       "    </tr>\n",
       "    <tr>\n",
       "      <th>28.0</th>\n",
       "      <td>0.763715</td>\n",
       "    </tr>\n",
       "    <tr>\n",
       "      <th>35.0</th>\n",
       "      <td>0.742739</td>\n",
>>>>>>> origin/main
       "    </tr>\n",
       "    <tr>\n",
       "      <th>...</th>\n",
       "      <td>...</td>\n",
       "    </tr>\n",
       "    <tr>\n",
<<<<<<< HEAD
       "      <th>882.0</th>\n",
       "      <td>0.041736</td>\n",
       "    </tr>\n",
       "    <tr>\n",
       "      <th>889.0</th>\n",
       "      <td>0.041736</td>\n",
       "    </tr>\n",
       "    <tr>\n",
       "      <th>924.0</th>\n",
       "      <td>0.041736</td>\n",
       "    </tr>\n",
       "    <tr>\n",
       "      <th>952.0</th>\n",
       "      <td>0.020868</td>\n",
       "    </tr>\n",
       "    <tr>\n",
       "      <th>1134.0</th>\n",
       "      <td>0.020868</td>\n",
       "    </tr>\n",
       "  </tbody>\n",
       "</table>\n",
       "<p>106 rows × 1 columns</p>\n",
=======
       "      <th>875.0</th>\n",
       "      <td>0.043657</td>\n",
       "    </tr>\n",
       "    <tr>\n",
       "      <th>882.0</th>\n",
       "      <td>0.043657</td>\n",
       "    </tr>\n",
       "    <tr>\n",
       "      <th>924.0</th>\n",
       "      <td>0.043657</td>\n",
       "    </tr>\n",
       "    <tr>\n",
       "      <th>952.0</th>\n",
       "      <td>0.021828</td>\n",
       "    </tr>\n",
       "    <tr>\n",
       "      <th>1127.0</th>\n",
       "      <td>0.021828</td>\n",
       "    </tr>\n",
       "  </tbody>\n",
       "</table>\n",
       "<p>82 rows × 1 columns</p>\n",
>>>>>>> origin/main
       "</div>"
      ],
      "text/plain": [
       "          KM Estimate\n",
       "timeline             \n",
<<<<<<< HEAD
       "0.0          0.941622\n",
       "7.0          0.856217\n",
       "14.0         0.838172\n",
       "21.0         0.821791\n",
       "28.0         0.785934\n",
       "...               ...\n",
       "882.0        0.041736\n",
       "889.0        0.041736\n",
       "924.0        0.041736\n",
       "952.0        0.020868\n",
       "1134.0       0.020868\n",
       "\n",
       "[106 rows x 1 columns]"
      ]
     },
     "execution_count": 9,
=======
       "0.0          0.856360\n",
       "7.0          0.838318\n",
       "14.0         0.821883\n",
       "28.0         0.763715\n",
       "35.0         0.742739\n",
       "...               ...\n",
       "875.0        0.043657\n",
       "882.0        0.043657\n",
       "924.0        0.043657\n",
       "952.0        0.021828\n",
       "1127.0       0.021828\n",
       "\n",
       "[82 rows x 1 columns]"
      ]
     },
     "execution_count": 4,
>>>>>>> origin/main
     "metadata": {},
     "output_type": "execute_result"
    }
   ],
   "source": [
    "kmf = KaplanMeierFitter()\n",
    "\n",
    "kmf.fit(durations=df_km['duration'], event_observed=df_km['event'], label=\"KM Estimate\")\n",
    "\n",
    "# 결과 확인\n",
    "kmf.survival_function_"
   ]
  },
  {
   "cell_type": "code",
<<<<<<< HEAD
   "execution_count": 30,
   "id": "f66934aa",
   "metadata": {},
   "outputs": [
    {
     "data": {
      "text/html": [
       "<div>\n",
       "<style scoped>\n",
       "    .dataframe tbody tr th:only-of-type {\n",
       "        vertical-align: middle;\n",
       "    }\n",
       "\n",
       "    .dataframe tbody tr th {\n",
       "        vertical-align: top;\n",
       "    }\n",
       "\n",
       "    .dataframe thead th {\n",
       "        text-align: right;\n",
       "    }\n",
       "</style>\n",
       "<table border=\"1\" class=\"dataframe\">\n",
       "  <thead>\n",
       "    <tr style=\"text-align: right;\">\n",
       "      <th></th>\n",
       "      <th>결제등록일</th>\n",
       "      <th>lvt</th>\n",
       "      <th>user_No</th>\n",
       "      <th>option</th>\n",
       "      <th>단계</th>\n",
       "      <th>이탈여부</th>\n",
       "      <th>donemonth</th>\n",
       "      <th>duration_days</th>\n",
       "      <th>학년</th>\n",
       "      <th>교과/탐구</th>\n",
       "      <th>최초 개월 수</th>\n",
       "      <th>stage_count</th>\n",
       "      <th>cycle_count</th>\n",
       "      <th>과외상태</th>\n",
       "      <th>수업상태</th>\n",
       "      <th>중단예정일</th>\n",
       "      <th>중단 예정 DONEMONTH</th>\n",
       "    </tr>\n",
       "  </thead>\n",
       "  <tbody>\n",
       "    <tr>\n",
       "      <th>0</th>\n",
       "      <td>2024-01-01 10:37:00</td>\n",
       "      <td>72405</td>\n",
       "      <td>612220</td>\n",
       "      <td>W2_H60</td>\n",
       "      <td>9</td>\n",
       "      <td>1</td>\n",
       "      <td>15.1250</td>\n",
       "      <td>427</td>\n",
       "      <td>중3</td>\n",
       "      <td>교과</td>\n",
       "      <td>6</td>\n",
       "      <td>10</td>\n",
       "      <td>8</td>\n",
       "      <td>FINISH</td>\n",
       "      <td>RESERVATION</td>\n",
       "      <td>2025-02-28 12:10:00</td>\n",
       "      <td>15.1250</td>\n",
       "    </tr>\n",
       "    <tr>\n",
       "      <th>1</th>\n",
       "      <td>2024-01-01 13:17:00</td>\n",
       "      <td>78508</td>\n",
       "      <td>620252</td>\n",
       "      <td>W2_H90</td>\n",
       "      <td>9</td>\n",
       "      <td>1</td>\n",
       "      <td>6.0396</td>\n",
       "      <td>175</td>\n",
       "      <td>N수생</td>\n",
       "      <td>교과</td>\n",
       "      <td>3</td>\n",
       "      <td>4</td>\n",
       "      <td>8</td>\n",
       "      <td>FINISH</td>\n",
       "      <td>RESERVATION</td>\n",
       "      <td>2024-10-07 10:59:00</td>\n",
       "      <td>6.0396</td>\n",
       "    </tr>\n",
       "    <tr>\n",
       "      <th>2</th>\n",
       "      <td>2024-01-01 13:17:00</td>\n",
       "      <td>78506</td>\n",
       "      <td>620252</td>\n",
       "      <td>W2_H60</td>\n",
       "      <td>9</td>\n",
       "      <td>1</td>\n",
       "      <td>9.7493</td>\n",
       "      <td>273</td>\n",
       "      <td>N수생</td>\n",
       "      <td>교과</td>\n",
       "      <td>6</td>\n",
       "      <td>4</td>\n",
       "      <td>2</td>\n",
       "      <td>FINISH</td>\n",
       "      <td>RESERVATION</td>\n",
       "      <td>2024-07-08 10:11:00</td>\n",
       "      <td>9.7493</td>\n",
       "    </tr>\n",
       "    <tr>\n",
       "      <th>3</th>\n",
       "      <td>2024-01-01 13:38:00</td>\n",
       "      <td>78462</td>\n",
       "      <td>620153</td>\n",
       "      <td>W1_H90</td>\n",
       "      <td>8</td>\n",
       "      <td>1</td>\n",
       "      <td>3.7500</td>\n",
       "      <td>105</td>\n",
       "      <td>고3</td>\n",
       "      <td>교과</td>\n",
       "      <td>6</td>\n",
       "      <td>1</td>\n",
       "      <td>16</td>\n",
       "      <td>FINISH</td>\n",
       "      <td>RESERVATION</td>\n",
       "      <td>2024-05-23 14:46:00</td>\n",
       "      <td>3.7500</td>\n",
       "    </tr>\n",
       "    <tr>\n",
       "      <th>4</th>\n",
       "      <td>2024-01-01 14:07:00</td>\n",
       "      <td>78509</td>\n",
       "      <td>608191</td>\n",
       "      <td>W1_H60</td>\n",
       "      <td>9</td>\n",
       "      <td>1</td>\n",
       "      <td>17.5000</td>\n",
       "      <td>490</td>\n",
       "      <td>중2</td>\n",
       "      <td>교과</td>\n",
       "      <td>3</td>\n",
       "      <td>15</td>\n",
       "      <td>4</td>\n",
       "      <td>AUTO_FINISH</td>\n",
       "      <td>DONE</td>\n",
       "      <td>2025-04-28 13:31:00</td>\n",
       "      <td>17.7500</td>\n",
       "    </tr>\n",
       "  </tbody>\n",
       "</table>\n",
       "</div>"
      ],
      "text/plain": [
       "                결제등록일    lvt  user_No  option  단계  이탈여부  donemonth  \\\n",
       "0 2024-01-01 10:37:00  72405   612220  W2_H60   9     1    15.1250   \n",
       "1 2024-01-01 13:17:00  78508   620252  W2_H90   9     1     6.0396   \n",
       "2 2024-01-01 13:17:00  78506   620252  W2_H60   9     1     9.7493   \n",
       "3 2024-01-01 13:38:00  78462   620153  W1_H90   8     1     3.7500   \n",
       "4 2024-01-01 14:07:00  78509   608191  W1_H60   9     1    17.5000   \n",
       "\n",
       "   duration_days   학년 교과/탐구 최초 개월 수  stage_count  cycle_count         과외상태  \\\n",
       "0            427   중3    교과       6           10            8       FINISH   \n",
       "1            175  N수생    교과       3            4            8       FINISH   \n",
       "2            273  N수생    교과       6            4            2       FINISH   \n",
       "3            105   고3    교과       6            1           16       FINISH   \n",
       "4            490   중2    교과       3           15            4  AUTO_FINISH   \n",
       "\n",
       "          수업상태               중단예정일  중단 예정 DONEMONTH  \n",
       "0  RESERVATION 2025-02-28 12:10:00          15.1250  \n",
       "1  RESERVATION 2024-10-07 10:59:00           6.0396  \n",
       "2  RESERVATION 2024-07-08 10:11:00           9.7493  \n",
       "3  RESERVATION 2024-05-23 14:46:00           3.7500  \n",
       "4         DONE 2025-04-28 13:31:00          17.7500  "
      ]
     },
     "execution_count": 30,
     "metadata": {},
     "output_type": "execute_result"
    }
   ],
   "source": [
    "df_processed.head()"
   ]
  },
  {
   "cell_type": "code",
   "execution_count": 10,
=======
   "execution_count": 5,
>>>>>>> origin/main
   "id": "4f490c63",
   "metadata": {},
   "outputs": [
    {
     "data": {
<<<<<<< HEAD
      "image/png": "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",
=======
      "image/png": "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",
>>>>>>> origin/main
      "text/plain": [
       "<Figure size 640x480 with 1 Axes>"
      ]
     },
     "metadata": {},
     "output_type": "display_data"
    }
   ],
   "source": [
    "kmf.plot_survival_function()\n",
    "plt.show()"
   ]
  },
  {
   "cell_type": "code",
<<<<<<< HEAD
   "execution_count": 22,
   "id": "247a35cb",
   "metadata": {},
   "outputs": [
    {
     "data": {
      "application/vnd.plotly.v1+json": {
       "config": {
        "plotlyServerURL": "https://plot.ly"
       },
       "data": [
        {
         "mode": "none",
         "showlegend": false,
         "type": "scatter",
         "x": {
          "bdata": "AAAAAAAAAAAAAAAAAADwPwAAAAAAAABAAAAAAAAACEAAAAAAAAAQQAAAAAAAABRAAAAAAAAAGEAAAAAAAAAcQAAAAAAAACBAAAAAAAAAIkAAAAAAAAAkQAAAAAAAACZAAAAAAAAAKEAAAAAAAAAqQAAAAAAAACxAAAAAAAAALkAAAAAAAAAwQAAAAAAAADFAAAAAAAAAMkAAAAAAAAAzQAAAAAAAADRAAAAAAAAANUAAAAAAAAA2QAAAAAAAADdAAAAAAAAAOEAAAAAAAAA5QAAAAAAAADpAAAAAAAAAO0AAAAAAAAA8QAAAAAAAAD1AAAAAAAAAPkAAAAAAAAA/QAAAAAAAAEBAAAAAAACAQEAAAAAAAABBQAAAAAAAgEFAAAAAAAAAQkAAAAAAAIBCQAAAAAAAAENAAAAAAACAQ0AAAAAAAABEQAAAAAAAgERAAAAAAAAARUAAAAAAAIBFQAAAAAAAAEZAAAAAAACARkAAAAAAAABHQAAAAAAAgEdAAAAAAAAASEAAAAAAAIBIQAAAAAAAAElAAAAAAACASUAAAAAAAABKQAAAAAAAgEpAAAAAAAAAS0AAAAAAAIBLQAAAAAAAAExAAAAAAACATEAAAAAAAABNQAAAAAAAgE1AAAAAAAAATkAAAAAAAIBOQAAAAAAAAE9AAAAAAACAT0AAAAAAAABQQAAAAAAAQFBAAAAAAACAUEAAAAAAAMBQQAAAAAAAAFFAAAAAAABAUUAAAAAAAIBRQAAAAAAAwFFAAAAAAAAAUkAAAAAAAEBSQAAAAAAAgFJAAAAAAADAUkAAAAAAAABTQAAAAAAAQFNAAAAAAACAU0AAAAAAAMBTQAAAAAAAAFRAAAAAAABAVEAAAAAAAIBUQAAAAAAAwFRAAAAAAAAAVUAAAAAAAEBVQAAAAAAAgFVAAAAAAADAVUAAAAAAAABWQAAAAAAAQFZAAAAAAACAVkAAAAAAAABXQAAAAAAAQFdAAAAAAACAV0AAAAAAAMBXQAAAAAAAAFhAAAAAAABAWEAAAAAAAEBZQAAAAAAAwFlAAAAAAABAW0AAAAAAAIBdQAAAAAAAgF9AAAAAAADAX0AAAAAAAIBgQAAAAAAAAGFAAAAAAABAZEA=",
          "dtype": "f8"
         },
         "y": {
          "bdata": "3U1CQsE07j+bekupzYLrP/Q3YVNx8Oo/T5Y/bHpr6j+YtHqRH0jpPwgIuvfKkOg/EvjNolXm5z+gBsycNE3nP9MMkdDJe+Y/ztHLa5Tv5T9FhkseeXHlP2ZsXmle6eQ/wJQGLUAj4z9p1ktV9T3hP6mSy3pwROA/V684Ohx13z84Nw2aAbbdP65vKsvuAtw/Z2Fa0T362j/YfSkbkzzaPygbPy5mB9k/Rqd+NEnA1z87m3XF1OPWP52wvST6TNY/7BFIlY8y1T/BSnuOMerTP/Ypk3jmMdM/DjJGdTq10j/lVttAKPDRP0yuNd2yGNE/jFLSyqKF0D8MRfZU9CzQPzbU/Gu7P88/7CYlFeuuzT94omVWhN/MP4FCyVsxLMw/JOEyoWguyz9S9cahuPfJP0OLvCKdR8k/Dose4p6pyD/ejvAu1dLHP4l177VovMY/nJOhWKYRxj+DmuXhFZjFP3e1BR/9+cQ/vqoTHSQvxD+t0iTX+pPDP76mldGgKsM/9m8x1jKZwj/ZEJGV8gzCPwFvPO7om8E/IvYyr2Q2wT8SOJyultDAP7kMZuI2ZMA/LmHBYQENwD/M4tyxa7a/P60mFEoK+b4/cGZZjSgBvj+zkSURV1a9Pwt4yJnO07w/oe1BS2JKvD8OxQ6spPC6PwBlhsVOILo/D+7r/nbMuT+OSSZrOTC5P0x+WgiAVbg/3xweYB9itz87SgH7T9y2P+PvBfWwOLY/j/nv7XjPtT/K0jd9S2u1P+mps96WNbU/sR+VyE+ntD9DShkHr2q0P7qtEIN1CLQ/5HY7CqLBsz89+Dsyc3SzPzUFCWDM47I/YJaEgwmgsj9P6OKy4wOyPxW3mzRSyrE/hJ74H1pKsT8dOz2tFwKxPx07Pa0XArE/n/8k9vrWsD9aZtdvj6ewP6sdtrlgc7A/qx22uWBzsD9YVjwP5i+wP+xgMTC0xK8/7GAxMLTErz/sYDEwtMSvP+xgMTC0xK8/7GAxMLTErz/sYDEwtMSvPy2v4BDMZ68/La/gEMxnrz8tr+AQzGevPy2v4BDMZ68/h7DXCpu9rj+HsNcKm72uP4ew1wqbva4/h7DXCpu9rj+HsNcKm72uPw3P3tSSw7E/Dc/e1JLDsT8=",
          "dtype": "f8"
         }
        },
        {
         "fill": "tonexty",
         "fillcolor": "rgba(0, 123, 255, 0.2)",
         "mode": "none",
         "name": "95% 신뢰구간",
         "showlegend": true,
         "type": "scatter",
         "x": {
          "bdata": "AAAAAAAAAAAAAAAAAADwPwAAAAAAAABAAAAAAAAACEAAAAAAAAAQQAAAAAAAABRAAAAAAAAAGEAAAAAAAAAcQAAAAAAAACBAAAAAAAAAIkAAAAAAAAAkQAAAAAAAACZAAAAAAAAAKEAAAAAAAAAqQAAAAAAAACxAAAAAAAAALkAAAAAAAAAwQAAAAAAAADFAAAAAAAAAMkAAAAAAAAAzQAAAAAAAADRAAAAAAAAANUAAAAAAAAA2QAAAAAAAADdAAAAAAAAAOEAAAAAAAAA5QAAAAAAAADpAAAAAAAAAO0AAAAAAAAA8QAAAAAAAAD1AAAAAAAAAPkAAAAAAAAA/QAAAAAAAAEBAAAAAAACAQEAAAAAAAABBQAAAAAAAgEFAAAAAAAAAQkAAAAAAAIBCQAAAAAAAAENAAAAAAACAQ0AAAAAAAABEQAAAAAAAgERAAAAAAAAARUAAAAAAAIBFQAAAAAAAAEZAAAAAAACARkAAAAAAAABHQAAAAAAAgEdAAAAAAAAASEAAAAAAAIBIQAAAAAAAAElAAAAAAACASUAAAAAAAABKQAAAAAAAgEpAAAAAAAAAS0AAAAAAAIBLQAAAAAAAAExAAAAAAACATEAAAAAAAABNQAAAAAAAgE1AAAAAAAAATkAAAAAAAIBOQAAAAAAAAE9AAAAAAACAT0AAAAAAAABQQAAAAAAAQFBAAAAAAACAUEAAAAAAAMBQQAAAAAAAAFFAAAAAAABAUUAAAAAAAIBRQAAAAAAAwFFAAAAAAAAAUkAAAAAAAEBSQAAAAAAAgFJAAAAAAADAUkAAAAAAAABTQAAAAAAAQFNAAAAAAACAU0AAAAAAAMBTQAAAAAAAAFRAAAAAAABAVEAAAAAAAIBUQAAAAAAAwFRAAAAAAAAAVUAAAAAAAEBVQAAAAAAAgFVAAAAAAADAVUAAAAAAAABWQAAAAAAAQFZAAAAAAACAVkAAAAAAAABXQAAAAAAAQFdAAAAAAACAV0AAAAAAAMBXQAAAAAAAAFhAAAAAAABAWEAAAAAAAEBZQAAAAAAAwFlAAAAAAABAW0AAAAAAAIBdQAAAAAAAgF9AAAAAAADAX0AAAAAAAIBgQAAAAAAAAGFAAAAAAABAZEA=",
          "dtype": "f8"
         },
         "y": {
          "bdata": "Nl7v1QMO7j8bJzwCz0jrP5LGjUaIs+o/7Pf5/CEs6j9T76mbDQTpPzMVQjgfSug/h79DUXed5z8R60CkhgLnP/fVU0zcLuY/8euoiEah5T9m7wQ1ASLlP45jVq+1mOQ/aHRwVFvP4j/OtkEL6+fgPwVDhSiR298/PxdS6lvH3j+8AVwC5AfdP9uCifzlVNs/FuxEyXNM2j9lsXJFBY/ZP6+KMh9eWtg/WYvGUg4U1z+0Z9kVRjjWP4NaEUftodU/DTrCX52I1D/ZiCRc0EHTP70StNWDitI/pJBv3YgO0j+STTY1lErRP7WzED10dNA/IjXQwLzEzz+xyF6xjBTPP11BOd80/M0/Vp8MriduzD9dktuKO6DLP2WX+gIh7so/TY/04Q/yyT9sftnRgr3IPw7g/HyaDsg//oOQ66Zxxz+QRiIgS5zGP8yDZxbEh8U/ATvv4zHexD8FjjxpdGXEPzcyxfJfyMM/TI6g5Nr+wj8N8eL4sGTCP424xuIB/ME/jths03NrwT+Rn+mzCODAP4f5cy2db8A/279jl5YKwD8M+0NmeEq/P0yLafp6cr4/MrIChHzEvT/w6Xsw9WC9PyhwhxJYo7w/qPylW/Kquz/q9iIDtv+6PzJ0hP6VfLo/9/NgaSHyuT9kuNXaD5W4PzWhaZDOwrc/IXz6AQButz/R/U+hus+2P8G2C9TN8bU/1FDuaTj6tD+gONIwx3G0PwzBPF5TyrM/NBI3LABesz+m4IiAH/ayP7FsoufvvbI/eE60jjsosj/mA1/Y/uexP7BVWEa8frE/zm2G6uoxsT+ZjfJD5tywP1NirX9pPLA/teiQDEXgrz/DxQ/2g3WuPzNKeFAI7a0/qisnbPC1rD/K/phhIQCsP8r+mGEhAKw/T0NdbvmIqz+Y4Nji+v6qP5lUXeyVXqo/mVRd7JVeqj8QKI6SKBCpP2QS0YIzfac/ZBLRgjN9pz9kEtGCM32nP2QS0YIzfac/ZBLRgjN9pz9kEtGCM32nPyk1VaxwaqM/KTVVrHBqoz8pNVWscGqjPyk1VaxwaqM/Jhm/zAlYnD8mGb/MCVicPyYZv8wJWJw/Jhm/zAlYnD8mGb/MCVicPwCroeoY7W0/AKuh6hjtbT8=",
          "dtype": "f8"
         }
        },
        {
         "line": {
          "color": "blue",
          "shape": "hv",
          "width": 2
         },
         "mode": "lines",
         "name": "KM Estimate",
         "type": "scatter",
         "x": {
          "bdata": "AAAAAAAAAAAAAAAAAADwPwAAAAAAAABAAAAAAAAACEAAAAAAAAAQQAAAAAAAABRAAAAAAAAAGEAAAAAAAAAcQAAAAAAAACBAAAAAAAAAIkAAAAAAAAAkQAAAAAAAACZAAAAAAAAAKEAAAAAAAAAqQAAAAAAAACxAAAAAAAAALkAAAAAAAAAwQAAAAAAAADFAAAAAAAAAMkAAAAAAAAAzQAAAAAAAADRAAAAAAAAANUAAAAAAAAA2QAAAAAAAADdAAAAAAAAAOEAAAAAAAAA5QAAAAAAAADpAAAAAAAAAO0AAAAAAAAA8QAAAAAAAAD1AAAAAAAAAPkAAAAAAAAA/QAAAAAAAAEBAAAAAAACAQEAAAAAAAABBQAAAAAAAgEFAAAAAAAAAQkAAAAAAAIBCQAAAAAAAAENAAAAAAACAQ0AAAAAAAABEQAAAAAAAgERAAAAAAAAARUAAAAAAAIBFQAAAAAAAAEZAAAAAAACARkAAAAAAAABHQAAAAAAAgEdAAAAAAAAASEAAAAAAAIBIQAAAAAAAAElAAAAAAACASUAAAAAAAABKQAAAAAAAgEpAAAAAAAAAS0AAAAAAAIBLQAAAAAAAAExAAAAAAACATEAAAAAAAABNQAAAAAAAgE1AAAAAAAAATkAAAAAAAIBOQAAAAAAAAE9AAAAAAACAT0AAAAAAAABQQAAAAAAAQFBAAAAAAACAUEAAAAAAAMBQQAAAAAAAAFFAAAAAAABAUUAAAAAAAIBRQAAAAAAAwFFAAAAAAAAAUkAAAAAAAEBSQAAAAAAAgFJAAAAAAADAUkAAAAAAAABTQAAAAAAAQFNAAAAAAACAU0AAAAAAAMBTQAAAAAAAAFRAAAAAAABAVEAAAAAAAIBUQAAAAAAAwFRAAAAAAAAAVUAAAAAAAEBVQAAAAAAAgFVAAAAAAADAVUAAAAAAAABWQAAAAAAAQFZAAAAAAACAVkAAAAAAAABXQAAAAAAAQFdAAAAAAACAV0AAAAAAAMBXQAAAAAAAAFhAAAAAAABAWEAAAAAAAEBZQAAAAAAAwFlAAAAAAABAW0AAAAAAAIBdQAAAAAAAgF9AAAAAAADAX0AAAAAAAIBgQAAAAAAAAGFAAAAAAABAZEA=",
          "dtype": "f8"
         },
         "y": {
          "bdata": "rEt6ycMh7j/dok3UIWbrP/VdaXJN0uo//iz+TRxM6j9r/pwoXybpPxqjKTG6beg/oiG4WCjC5z8gAMKXHCjnP3GYvgiOVeY//DLdx6XI5T/Npl8Q80nlPw21Ul09weQ/PlnGGXj54j9XaB9FEBPhP9Mwlhc3GeA/yweY+moe3z+ZnahvF1/dP1egK78ErNs/7/t2w2yj2j8VhTx/2+XZP7GYnrfpsNg/UIB15Cpq1z/ydNy1Bo7WPyijVeho99U/ZdPI04Pd1D/lhIzS5JXTP80pG38T3tI/dyGlKrxh0j8K0VF3Mp3RPyWoradgxtA/grSgocgz0D/zV5p3xLbPP0oD7YR3nc4/B7l0O/kNzT9J31NcRz/MP+pokvuIjMs/RYbSwpCPyj+lJhKO41nJP58lTtFYqsg/RY1Lm9cMyD9HTFUFuTbHP8a1q+IuIcY/wiji6Pl2xT8ZDFHvyv3EP0T3hVUpYMQ/9NGmWeuVwz8LJg+HNfvCPynj1j0oksI/o6vUdx0Bwj/Q8ui6OnXBP+p7Fe50BME/nq670CSfwD/k2slJhTnAPxwaAjmSmr8/+SJVM0fsvj9Vvdtaqoi+PwNkyi8Py70//XNaHcTSvD/aCZtHoCe8P2yrGiG0pLs/bwtvNKgauz9ITbmW8765PwTDTIx17bg/bgHHXwyZuD8ubshDn/u3P0jJZnIJH7c/bV0Izzoptj88aoCs56G1P/MEwHQZ/LQ/saXZAiKRtD/Cx0Kz5Sq0PzsYfIzT87M/+9b7ZXhhsz/Sec9w3SKzP558ICnOvLI/wCBpL7lysj+SWbIPTCGyP+wGB/cLiLE/jn7ZrKg/sT/95R9r05WwPzoUvI90VrA/BVX3R+6Orz81xlr9DequPzXGWv0N6q4/zdcSH+yBrj8rYNgWlwuuPwBaSWemhK0/AFpJZ6aErT/40qEZ45CsP4rK2CJfbKs/isrYIl9sqz+KytgiX2yrP4rK2CJfbKs/isrYIl9sqz+KytgiX2yrP34sIvEn7qg/fiwi8SfuqD9+LCLxJ+6oP34sIvEn7qg/a7j4YGtepT9ruPhga16lP2u4+GBrXqU/a7j4YGtepT9ruPhga16lP2u4+GBrXpU/a7j4YGtelT8=",
          "dtype": "f8"
         }
        }
       ],
       "layout": {
        "hovermode": "x unified",
        "legend": {
         "bordercolor": "LightGray",
         "borderwidth": 1
        },
        "template": {
         "data": {
          "bar": [
           {
            "error_x": {
             "color": "#2a3f5f"
            },
            "error_y": {
             "color": "#2a3f5f"
            },
            "marker": {
             "line": {
              "color": "white",
              "width": 0.5
             },
             "pattern": {
              "fillmode": "overlay",
              "size": 10,
              "solidity": 0.2
             }
            },
            "type": "bar"
           }
          ],
          "barpolar": [
           {
            "marker": {
             "line": {
              "color": "white",
              "width": 0.5
             },
             "pattern": {
              "fillmode": "overlay",
              "size": 10,
              "solidity": 0.2
             }
            },
            "type": "barpolar"
           }
          ],
          "carpet": [
           {
            "aaxis": {
             "endlinecolor": "#2a3f5f",
             "gridcolor": "#C8D4E3",
             "linecolor": "#C8D4E3",
             "minorgridcolor": "#C8D4E3",
             "startlinecolor": "#2a3f5f"
            },
            "baxis": {
             "endlinecolor": "#2a3f5f",
             "gridcolor": "#C8D4E3",
             "linecolor": "#C8D4E3",
             "minorgridcolor": "#C8D4E3",
             "startlinecolor": "#2a3f5f"
            },
            "type": "carpet"
           }
          ],
          "choropleth": [
           {
            "colorbar": {
             "outlinewidth": 0,
             "ticks": ""
            },
            "type": "choropleth"
           }
          ],
          "contour": [
           {
            "colorbar": {
             "outlinewidth": 0,
             "ticks": ""
            },
            "colorscale": [
             [
              0,
              "#0d0887"
             ],
             [
              0.1111111111111111,
              "#46039f"
             ],
             [
              0.2222222222222222,
              "#7201a8"
             ],
             [
              0.3333333333333333,
              "#9c179e"
             ],
             [
              0.4444444444444444,
              "#bd3786"
             ],
             [
              0.5555555555555556,
              "#d8576b"
             ],
             [
              0.6666666666666666,
              "#ed7953"
             ],
             [
              0.7777777777777778,
              "#fb9f3a"
             ],
             [
              0.8888888888888888,
              "#fdca26"
             ],
             [
              1,
              "#f0f921"
             ]
            ],
            "type": "contour"
           }
          ],
          "contourcarpet": [
           {
            "colorbar": {
             "outlinewidth": 0,
             "ticks": ""
            },
            "type": "contourcarpet"
           }
          ],
          "heatmap": [
           {
            "colorbar": {
             "outlinewidth": 0,
             "ticks": ""
            },
            "colorscale": [
             [
              0,
              "#0d0887"
             ],
             [
              0.1111111111111111,
              "#46039f"
             ],
             [
              0.2222222222222222,
              "#7201a8"
             ],
             [
              0.3333333333333333,
              "#9c179e"
             ],
             [
              0.4444444444444444,
              "#bd3786"
             ],
             [
              0.5555555555555556,
              "#d8576b"
             ],
             [
              0.6666666666666666,
              "#ed7953"
             ],
             [
              0.7777777777777778,
              "#fb9f3a"
             ],
             [
              0.8888888888888888,
              "#fdca26"
             ],
             [
              1,
              "#f0f921"
             ]
            ],
            "type": "heatmap"
           }
          ],
          "histogram": [
           {
            "marker": {
             "pattern": {
              "fillmode": "overlay",
              "size": 10,
              "solidity": 0.2
             }
            },
            "type": "histogram"
           }
          ],
          "histogram2d": [
           {
            "colorbar": {
             "outlinewidth": 0,
             "ticks": ""
            },
            "colorscale": [
             [
              0,
              "#0d0887"
             ],
             [
              0.1111111111111111,
              "#46039f"
             ],
             [
              0.2222222222222222,
              "#7201a8"
             ],
             [
              0.3333333333333333,
              "#9c179e"
             ],
             [
              0.4444444444444444,
              "#bd3786"
             ],
             [
              0.5555555555555556,
              "#d8576b"
             ],
             [
              0.6666666666666666,
              "#ed7953"
             ],
             [
              0.7777777777777778,
              "#fb9f3a"
             ],
             [
              0.8888888888888888,
              "#fdca26"
             ],
             [
              1,
              "#f0f921"
             ]
            ],
            "type": "histogram2d"
           }
          ],
          "histogram2dcontour": [
           {
            "colorbar": {
             "outlinewidth": 0,
             "ticks": ""
            },
            "colorscale": [
             [
              0,
              "#0d0887"
             ],
             [
              0.1111111111111111,
              "#46039f"
             ],
             [
              0.2222222222222222,
              "#7201a8"
             ],
             [
              0.3333333333333333,
              "#9c179e"
             ],
             [
              0.4444444444444444,
              "#bd3786"
             ],
             [
              0.5555555555555556,
              "#d8576b"
             ],
             [
              0.6666666666666666,
              "#ed7953"
             ],
             [
              0.7777777777777778,
              "#fb9f3a"
             ],
             [
              0.8888888888888888,
              "#fdca26"
             ],
             [
              1,
              "#f0f921"
             ]
            ],
            "type": "histogram2dcontour"
           }
          ],
          "mesh3d": [
           {
            "colorbar": {
             "outlinewidth": 0,
             "ticks": ""
            },
            "type": "mesh3d"
           }
          ],
          "parcoords": [
           {
            "line": {
             "colorbar": {
              "outlinewidth": 0,
              "ticks": ""
             }
            },
            "type": "parcoords"
           }
          ],
          "pie": [
           {
            "automargin": true,
            "type": "pie"
           }
          ],
          "scatter": [
           {
            "fillpattern": {
             "fillmode": "overlay",
             "size": 10,
             "solidity": 0.2
            },
            "type": "scatter"
           }
          ],
          "scatter3d": [
           {
            "line": {
             "colorbar": {
              "outlinewidth": 0,
              "ticks": ""
             }
            },
            "marker": {
             "colorbar": {
              "outlinewidth": 0,
              "ticks": ""
             }
            },
            "type": "scatter3d"
           }
          ],
          "scattercarpet": [
           {
            "marker": {
             "colorbar": {
              "outlinewidth": 0,
              "ticks": ""
             }
            },
            "type": "scattercarpet"
           }
          ],
          "scattergeo": [
           {
            "marker": {
             "colorbar": {
              "outlinewidth": 0,
              "ticks": ""
             }
            },
            "type": "scattergeo"
           }
          ],
          "scattergl": [
           {
            "marker": {
             "colorbar": {
              "outlinewidth": 0,
              "ticks": ""
             }
            },
            "type": "scattergl"
           }
          ],
          "scattermap": [
           {
            "marker": {
             "colorbar": {
              "outlinewidth": 0,
              "ticks": ""
             }
            },
            "type": "scattermap"
           }
          ],
          "scattermapbox": [
           {
            "marker": {
             "colorbar": {
              "outlinewidth": 0,
              "ticks": ""
             }
            },
            "type": "scattermapbox"
           }
          ],
          "scatterpolar": [
           {
            "marker": {
             "colorbar": {
              "outlinewidth": 0,
              "ticks": ""
             }
            },
            "type": "scatterpolar"
           }
          ],
          "scatterpolargl": [
           {
            "marker": {
             "colorbar": {
              "outlinewidth": 0,
              "ticks": ""
             }
            },
            "type": "scatterpolargl"
           }
          ],
          "scatterternary": [
           {
            "marker": {
             "colorbar": {
              "outlinewidth": 0,
              "ticks": ""
             }
            },
            "type": "scatterternary"
           }
          ],
          "surface": [
           {
            "colorbar": {
             "outlinewidth": 0,
             "ticks": ""
            },
            "colorscale": [
             [
              0,
              "#0d0887"
             ],
             [
              0.1111111111111111,
              "#46039f"
             ],
             [
              0.2222222222222222,
              "#7201a8"
             ],
             [
              0.3333333333333333,
              "#9c179e"
             ],
             [
              0.4444444444444444,
              "#bd3786"
             ],
             [
              0.5555555555555556,
              "#d8576b"
             ],
             [
              0.6666666666666666,
              "#ed7953"
             ],
             [
              0.7777777777777778,
              "#fb9f3a"
             ],
             [
              0.8888888888888888,
              "#fdca26"
             ],
             [
              1,
              "#f0f921"
             ]
            ],
            "type": "surface"
           }
          ],
          "table": [
           {
            "cells": {
             "fill": {
              "color": "#EBF0F8"
             },
             "line": {
              "color": "white"
             }
            },
            "header": {
             "fill": {
              "color": "#C8D4E3"
             },
             "line": {
              "color": "white"
             }
            },
            "type": "table"
           }
          ]
         },
         "layout": {
          "annotationdefaults": {
           "arrowcolor": "#2a3f5f",
           "arrowhead": 0,
           "arrowwidth": 1
          },
          "autotypenumbers": "strict",
          "coloraxis": {
           "colorbar": {
            "outlinewidth": 0,
            "ticks": ""
           }
          },
          "colorscale": {
           "diverging": [
            [
             0,
             "#8e0152"
            ],
            [
             0.1,
             "#c51b7d"
            ],
            [
             0.2,
             "#de77ae"
            ],
            [
             0.3,
             "#f1b6da"
            ],
            [
             0.4,
             "#fde0ef"
            ],
            [
             0.5,
             "#f7f7f7"
            ],
            [
             0.6,
             "#e6f5d0"
            ],
            [
             0.7,
             "#b8e186"
            ],
            [
             0.8,
             "#7fbc41"
            ],
            [
             0.9,
             "#4d9221"
            ],
            [
             1,
             "#276419"
            ]
           ],
           "sequential": [
            [
             0,
             "#0d0887"
            ],
            [
             0.1111111111111111,
             "#46039f"
            ],
            [
             0.2222222222222222,
             "#7201a8"
            ],
            [
             0.3333333333333333,
             "#9c179e"
            ],
            [
             0.4444444444444444,
             "#bd3786"
            ],
            [
             0.5555555555555556,
             "#d8576b"
            ],
            [
             0.6666666666666666,
             "#ed7953"
            ],
            [
             0.7777777777777778,
             "#fb9f3a"
            ],
            [
             0.8888888888888888,
             "#fdca26"
            ],
            [
             1,
             "#f0f921"
            ]
           ],
           "sequentialminus": [
            [
             0,
             "#0d0887"
            ],
            [
             0.1111111111111111,
             "#46039f"
            ],
            [
             0.2222222222222222,
             "#7201a8"
            ],
            [
             0.3333333333333333,
             "#9c179e"
            ],
            [
             0.4444444444444444,
             "#bd3786"
            ],
            [
             0.5555555555555556,
             "#d8576b"
            ],
            [
             0.6666666666666666,
             "#ed7953"
            ],
            [
             0.7777777777777778,
             "#fb9f3a"
            ],
            [
             0.8888888888888888,
             "#fdca26"
            ],
            [
             1,
             "#f0f921"
            ]
           ]
          },
          "colorway": [
           "#636efa",
           "#EF553B",
           "#00cc96",
           "#ab63fa",
           "#FFA15A",
           "#19d3f3",
           "#FF6692",
           "#B6E880",
           "#FF97FF",
           "#FECB52"
          ],
          "font": {
           "color": "#2a3f5f"
          },
          "geo": {
           "bgcolor": "white",
           "lakecolor": "white",
           "landcolor": "white",
           "showlakes": true,
           "showland": true,
           "subunitcolor": "#C8D4E3"
          },
          "hoverlabel": {
           "align": "left"
          },
          "hovermode": "closest",
          "mapbox": {
           "style": "light"
          },
          "paper_bgcolor": "white",
          "plot_bgcolor": "white",
          "polar": {
           "angularaxis": {
            "gridcolor": "#EBF0F8",
            "linecolor": "#EBF0F8",
            "ticks": ""
           },
           "bgcolor": "white",
           "radialaxis": {
            "gridcolor": "#EBF0F8",
            "linecolor": "#EBF0F8",
            "ticks": ""
           }
          },
          "scene": {
           "xaxis": {
            "backgroundcolor": "white",
            "gridcolor": "#DFE8F3",
            "gridwidth": 2,
            "linecolor": "#EBF0F8",
            "showbackground": true,
            "ticks": "",
            "zerolinecolor": "#EBF0F8"
           },
           "yaxis": {
            "backgroundcolor": "white",
            "gridcolor": "#DFE8F3",
            "gridwidth": 2,
            "linecolor": "#EBF0F8",
            "showbackground": true,
            "ticks": "",
            "zerolinecolor": "#EBF0F8"
           },
           "zaxis": {
            "backgroundcolor": "white",
            "gridcolor": "#DFE8F3",
            "gridwidth": 2,
            "linecolor": "#EBF0F8",
            "showbackground": true,
            "ticks": "",
            "zerolinecolor": "#EBF0F8"
           }
          },
          "shapedefaults": {
           "line": {
            "color": "#2a3f5f"
           }
          },
          "ternary": {
           "aaxis": {
            "gridcolor": "#DFE8F3",
            "linecolor": "#A2B1C6",
            "ticks": ""
           },
           "baxis": {
            "gridcolor": "#DFE8F3",
            "linecolor": "#A2B1C6",
            "ticks": ""
           },
           "bgcolor": "white",
           "caxis": {
            "gridcolor": "#DFE8F3",
            "linecolor": "#A2B1C6",
            "ticks": ""
           }
          },
          "title": {
           "x": 0.05
          },
          "xaxis": {
           "automargin": true,
           "gridcolor": "#EBF0F8",
           "linecolor": "#EBF0F8",
           "ticks": "",
           "title": {
            "standoff": 15
           },
           "zerolinecolor": "#EBF0F8",
           "zerolinewidth": 2
          },
          "yaxis": {
           "automargin": true,
           "gridcolor": "#EBF0F8",
           "linecolor": "#EBF0F8",
           "ticks": "",
           "title": {
            "standoff": 15
           },
           "zerolinecolor": "#EBF0F8",
           "zerolinewidth": 2
          }
         }
        },
        "title": {
         "text": "Kaplan–Meier 생존 곡선"
        },
        "xaxis": {
         "showgrid": false,
         "title": {
          "text": "시간 (주)"
         }
        },
        "yaxis": {
         "dtick": 0.1,
         "range": [
          0,
          1
         ],
         "showgrid": false,
         "tick0": 0,
         "title": {
          "text": "생존 확률"
         }
        }
       }
      }
     },
     "metadata": {},
     "output_type": "display_data"
    }
   ],
   "source": [
    "import plotly.graph_objects as go\n",
    "\n",
    "# lifelines KaplanMeierFitter 결과\n",
    "timeline = kmf.survival_function_.index\n",
    "survival = kmf.survival_function_[\"KM Estimate\"]\n",
    "ci_lower = kmf.confidence_interval_[\"KM Estimate_lower_0.95\"]\n",
    "ci_upper = kmf.confidence_interval_[\"KM Estimate_upper_0.95\"]\n",
    "\n",
    "# 단위 변환\n",
    "timeline_days = timeline\n",
    "timeline_weeks = timeline / 7\n",
    "timeline_months = timeline / 30\n",
    "\n",
    "# 단위 선택: 'day' / 'week' / 'month'\n",
    "unit = \"week\"  \n",
    "\n",
    "if unit == \"day\":\n",
    "    x = timeline_days\n",
    "    xlabel = \"시간 (일)\"\n",
    "elif unit == \"week\":\n",
    "    x = timeline_weeks\n",
    "    xlabel = \"시간 (주)\"\n",
    "elif unit == \"month\":\n",
    "    x = timeline_months\n",
    "    xlabel = \"시간 (개월)\"\n",
    "\n",
    "fig = go.Figure()\n",
    "\n",
    "# 신뢰구간 (윗선)\n",
    "fig.add_trace(go.Scatter(\n",
    "    x=x,\n",
    "    y=ci_upper,\n",
    "    mode='none',   # 선 제거\n",
    "    showlegend=False\n",
    "))\n",
    "\n",
    "# 신뢰구간 (아랫선 + fill 영역)\n",
    "fig.add_trace(go.Scatter(\n",
    "    x=x,\n",
    "    y=ci_lower,\n",
    "    mode='none',\n",
    "    fill='tonexty',\n",
    "    fillcolor='rgba(0, 123, 255, 0.2)',\n",
    "    showlegend=True,\n",
    "    name='95% 신뢰구간'\n",
    "))\n",
    "\n",
    "# KM Estimate 곡선 (계단형)\n",
    "fig.add_trace(go.Scatter(\n",
    "    x=x,\n",
    "    y=survival,\n",
    "    mode='lines',\n",
    "    line=dict(color='blue', width=2),\n",
    "    name='KM Estimate',\n",
    "    line_shape='hv'\n",
    "))\n",
    "\n",
    "# 레이아웃\n",
    "fig.update_layout(\n",
    "    title=\"Kaplan–Meier 생존 곡선\",\n",
    "    xaxis_title=xlabel,\n",
    "    yaxis_title=\"생존 확률\",\n",
    "    template=\"plotly_white\",\n",
    "    legend=dict(bordercolor=\"LightGray\", borderwidth=1),\n",
    "    hovermode=\"x unified\"\n",
    ")\n",
    "\n",
    "fig.update_yaxes(\n",
    "    tick0=0.0,\n",
    "    dtick=0.1,\n",
    "    range=[0, 1],\n",
    "    showgrid=False\n",
    ")\n",
    "\n",
    "fig.update_xaxes(showgrid=False)\n",
    "\n",
    "fig.show()\n"
   ]
  },
  {
   "cell_type": "code",
   "execution_count": 23,
   "id": "299dd708",
=======
   "execution_count": 12,
   "id": "fcc14a71",
>>>>>>> origin/main
   "metadata": {},
   "outputs": [
    {
     "name": "stdout",
     "output_type": "stream",
     "text": [
<<<<<<< HEAD
      "생존곡선 아래 넓이 (AUC): 178일\n"
=======
      "=== stage_count와 donemonth 패턴 분석 ===\n",
      "\n",
      "1. stage_count 분포:\n",
      "stage_count\n",
      "0      2310\n",
      "1     16413\n",
      "2      5312\n",
      "3      3278\n",
      "4      2345\n",
      "5      1746\n",
      "6      1352\n",
      "7      1077\n",
      "8       908\n",
      "9       683\n",
      "10      528\n",
      "11      411\n",
      "12      324\n",
      "13      275\n",
      "14      199\n",
      "15      192\n",
      "16      110\n",
      "17      107\n",
      "18       85\n",
      "19       34\n",
      "20       33\n",
      "21       17\n",
      "22        6\n",
      "23        1\n",
      "24        2\n",
      "28        1\n",
      "30        1\n",
      "31        2\n",
      "32        1\n",
      "39        1\n",
      "Name: count, dtype: int64\n",
      "\n",
      "2. stage_count > 1인 케이스: 19031개 (50.4%)\n",
      "\n",
      "3. stage_count > 1인 케이스들의 donemonth 분포:\n",
      "              count       mean       std      min        25%      50%  \\\n",
      "stage_count                                                             \n",
      "2            5312.0   3.356715  1.420819   0.0000   3.000000   3.3750   \n",
      "3            3278.0   4.429863  1.380350   0.3750   4.000000   4.5000   \n",
      "4            2345.0   5.401822  1.398352   0.2500   5.000000   5.5000   \n",
      "5            1746.0   6.512730  1.521658   2.6250   6.000000   6.5000   \n",
      "6            1352.0   7.460992  1.448300   3.5000   7.000000   7.5000   \n",
      "7            1077.0   8.569322  1.389689   4.2500   8.125000   8.5000   \n",
      "8             908.0   9.454257  1.350672   5.4583   9.000000   9.5000   \n",
      "9             683.0  10.455053  1.557172   5.8750  10.000000  10.5000   \n",
      "10            528.0  11.534164  1.469497   7.2056  11.000000  11.5000   \n",
      "11            411.0  12.699836  1.582353   8.6250  12.000000  12.6250   \n",
      "12            324.0  13.571161  1.385459  10.2500  13.113400  13.5000   \n",
      "13            275.0  14.652748  1.240564  11.0000  14.248600  14.6250   \n",
      "14            199.0  15.587577  1.506529  11.5000  15.019500  15.5000   \n",
      "15            192.0  16.590909  1.336705  12.2496  16.250000  16.5000   \n",
      "16            110.0  17.401010  1.217287  14.1664  17.000000  17.5000   \n",
      "17            107.0  18.455414  1.065414  15.7500  18.125000  18.5000   \n",
      "18             85.0  19.396035  1.309645  14.4985  19.247500  19.6250   \n",
      "19             34.0  20.078100  1.145440  17.2500  19.812500  20.5000   \n",
      "20             33.0  21.136055  1.037032  17.6250  21.000000  21.5000   \n",
      "21             17.0  21.232171  1.963432  16.5816  20.166400  21.7500   \n",
      "22              6.0  22.423517  1.642514  20.7500  20.968325  22.4375   \n",
      "23              1.0  22.000000       NaN  22.0000  22.000000  22.0000   \n",
      "24              2.0  24.375000  1.237437  23.5000  23.937500  24.3750   \n",
      "28              1.0  29.287900       NaN  29.2879  29.287900  29.2879   \n",
      "30              1.0  31.625000       NaN  31.6250  31.625000  31.6250   \n",
      "31              2.0  32.187500  0.972272  31.5000  31.843750  32.1875   \n",
      "32              1.0  34.000000       NaN  34.0000  34.000000  34.0000   \n",
      "39              1.0  40.375000       NaN  40.3750  40.375000  40.3750   \n",
      "\n",
      "                  75%      max  \n",
      "stage_count                     \n",
      "2             4.00000  18.0761  \n",
      "3             5.00000  15.7500  \n",
      "4             6.00000  14.3750  \n",
      "5             7.00000  19.8750  \n",
      "6             8.00000  16.8750  \n",
      "7             9.00000  18.0000  \n",
      "8            10.00000  19.0000  \n",
      "9            11.00000  27.2500  \n",
      "10           12.00000  16.2500  \n",
      "11           13.12500  21.5000  \n",
      "12           14.00000  18.6250  \n",
      "13           15.00000  20.0000  \n",
      "14           16.06250  20.7500  \n",
      "15           17.00000  22.7500  \n",
      "16           17.87500  21.2500  \n",
      "17           18.93750  21.7500  \n",
      "18           19.87500  23.2500  \n",
      "19           20.84375  21.5000  \n",
      "20           21.75000  22.2500  \n",
      "21           22.12500  25.7500  \n",
      "22           23.93750  24.0000  \n",
      "23           22.00000  22.0000  \n",
      "24           24.81250  25.2500  \n",
      "28           29.28790  29.2879  \n",
      "30           31.62500  31.6250  \n",
      "31           32.53125  32.8750  \n",
      "32           34.00000  34.0000  \n",
      "39           40.37500  40.3750  \n",
      "\n",
      "4. 샘플 케이스들:\n",
      "    user_No  stage_count  donemonth  cycle_count  이탈여부         과외상태\n",
      "0    612220           10    15.1250            8     1       FINISH\n",
      "1    620252            4     6.0396            8     1       FINISH\n",
      "2    620252            4     9.7493            2     1       FINISH\n",
      "4    608191           15    17.5000            4     1  AUTO_FINISH\n",
      "6    570409            4     8.0000            1     1       FINISH\n",
      "7    620272            7    11.6242           12     1  AUTO_FINISH\n",
      "8    449545            5     7.0000            3     1       FINISH\n",
      "9    620276            7    10.3746            4     1  AUTO_FINISH\n",
      "10   476988            2     3.1250            2     1       FINISH\n",
      "12   620292           16    20.2500            2     0       ACTIVE\n",
      "\n",
      "5. 고유 user_No 수: 13672개\n",
      "   전체 multi_stage 레코드 수: 19031개\n",
      "\n",
      "6. 중복된 user_No가 있는 경우: 4207개\n",
      "   예시:\n",
      "   User 645270:\n",
      " user_No  stage_count  donemonth  이탈여부\n",
      "  645270           15      16.50     0\n",
      "  645270            5       4.50     1\n",
      "  645270            5       4.25     1\n",
      "  645270            7       9.00     1\n",
      "  645270            3       4.75     1\n",
      "  645270           10       8.50     0\n",
      "  645270            3       4.75     1\n",
      "\n",
      "   User 631515:\n",
      " user_No  stage_count  donemonth  이탈여부\n",
      "  631515           21    19.0795     0\n",
      "  631515           17    16.6242     0\n",
      "  631515            4     5.7500     1\n",
      "  631515            9    12.2500     1\n",
      "  631515            9    10.2500     0\n",
      "  631515            7     6.7500     0\n",
      "  631515            8     7.7500     0\n",
      "\n",
      "   User 637049:\n",
      " user_No  stage_count  donemonth  이탈여부\n",
      "  637049            3      5.000     1\n",
      "  637049           11     13.000     0\n",
      "  637049            4      5.500     1\n",
      "  637049           11     13.125     1\n",
      "  637049            3      4.250     1\n",
      "  637049           11     13.000     0\n",
      "  637049            4      5.000     1\n",
      "\n"
>>>>>>> origin/main
     ]
    }
   ],
   "source": [
<<<<<<< HEAD
    "auc = np.trapz(survival, timeline)\n",
    "\n",
    "print(f\"생존곡선 아래 넓이 (AUC): {round(auc)}일\")"
   ]
  },
  {
   "cell_type": "code",
   "execution_count": 33,
   "id": "610c431e",
   "metadata": {},
   "outputs": [
    {
     "ename": "AttributeError",
     "evalue": "'DataFrame' object has no attribute 'head9'",
     "output_type": "error",
     "traceback": [
      "\u001b[1;31m---------------------------------------------------------------------------\u001b[0m",
      "\u001b[1;31mAttributeError\u001b[0m                            Traceback (most recent call last)",
      "Cell \u001b[1;32mIn[33], line 1\u001b[0m\n\u001b[1;32m----> 1\u001b[0m \u001b[43mdf_processed\u001b[49m\u001b[38;5;241;43m.\u001b[39;49m\u001b[43mhead9\u001b[49m\n",
      "File \u001b[1;32mc:\\Users\\WD\\AppData\\Local\\Programs\\Python\\Python310\\lib\\site-packages\\pandas\\core\\generic.py:6299\u001b[0m, in \u001b[0;36mNDFrame.__getattr__\u001b[1;34m(self, name)\u001b[0m\n\u001b[0;32m   6292\u001b[0m \u001b[38;5;28;01mif\u001b[39;00m (\n\u001b[0;32m   6293\u001b[0m     name \u001b[38;5;129;01mnot\u001b[39;00m \u001b[38;5;129;01min\u001b[39;00m \u001b[38;5;28mself\u001b[39m\u001b[38;5;241m.\u001b[39m_internal_names_set\n\u001b[0;32m   6294\u001b[0m     \u001b[38;5;129;01mand\u001b[39;00m name \u001b[38;5;129;01mnot\u001b[39;00m \u001b[38;5;129;01min\u001b[39;00m \u001b[38;5;28mself\u001b[39m\u001b[38;5;241m.\u001b[39m_metadata\n\u001b[0;32m   6295\u001b[0m     \u001b[38;5;129;01mand\u001b[39;00m name \u001b[38;5;129;01mnot\u001b[39;00m \u001b[38;5;129;01min\u001b[39;00m \u001b[38;5;28mself\u001b[39m\u001b[38;5;241m.\u001b[39m_accessors\n\u001b[0;32m   6296\u001b[0m     \u001b[38;5;129;01mand\u001b[39;00m \u001b[38;5;28mself\u001b[39m\u001b[38;5;241m.\u001b[39m_info_axis\u001b[38;5;241m.\u001b[39m_can_hold_identifiers_and_holds_name(name)\n\u001b[0;32m   6297\u001b[0m ):\n\u001b[0;32m   6298\u001b[0m     \u001b[38;5;28;01mreturn\u001b[39;00m \u001b[38;5;28mself\u001b[39m[name]\n\u001b[1;32m-> 6299\u001b[0m \u001b[38;5;28;01mreturn\u001b[39;00m \u001b[38;5;28;43mobject\u001b[39;49m\u001b[38;5;241;43m.\u001b[39;49m\u001b[38;5;21;43m__getattribute__\u001b[39;49m\u001b[43m(\u001b[49m\u001b[38;5;28;43mself\u001b[39;49m\u001b[43m,\u001b[49m\u001b[43m \u001b[49m\u001b[43mname\u001b[49m\u001b[43m)\u001b[49m\n",
      "\u001b[1;31mAttributeError\u001b[0m: 'DataFrame' object has no attribute 'head9'"
     ]
    }
   ],
   "source": [
    "df_processed.head()"
   ]
  },
  {
   "cell_type": "code",
   "execution_count": null,
   "id": "277897b8",
   "metadata": {},
   "outputs": [],
   "source": []
=======
    "# stage_count와 donemonth 관계 분석\n",
    "print(\"=== stage_count와 donemonth 패턴 분석 ===\")\n",
    "\n",
    "# stage_count별 분포 확인\n",
    "print(\"\\n1. stage_count 분포:\")\n",
    "print(df_processed['stage_count'].value_counts().sort_index())\n",
    "\n",
    "# stage_count > 1인 케이스들 분석\n",
    "multi_stage = df_processed[df_processed['stage_count'] > 1]\n",
    "print(f\"\\n2. stage_count > 1인 케이스: {len(multi_stage)}개 ({len(multi_stage)/len(df_processed)*100:.1f}%)\")\n",
    "\n",
    "if len(multi_stage) > 0:\n",
    "    print(\"\\n3. stage_count > 1인 케이스들의 donemonth 분포:\")\n",
    "    print(multi_stage.groupby('stage_count')['donemonth'].describe())\n",
    "    \n",
    "    # 샘플 케이스들 확인\n",
    "    print(\"\\n4. 샘플 케이스들:\")\n",
    "    sample_cases = multi_stage[['user_No', 'stage_count', 'donemonth', 'cycle_count', '이탈여부', '과외상태']].head(10)\n",
    "    print(sample_cases)\n",
    "    \n",
    "    # 동일 user_No가 여러 stage에 나타나는지 확인\n",
    "    print(f\"\\n5. 고유 user_No 수: {multi_stage['user_No'].nunique()}개\")\n",
    "    print(f\"   전체 multi_stage 레코드 수: {len(multi_stage)}개\")\n",
    "    \n",
    "    # 중복 user_No 확인\n",
    "    duplicate_users = multi_stage['user_No'].value_counts()\n",
    "    duplicate_users = duplicate_users[duplicate_users > 1]\n",
    "    if len(duplicate_users) > 0:\n",
    "        print(f\"\\n6. 중복된 user_No가 있는 경우: {len(duplicate_users)}개\")\n",
    "        print(\"   예시:\")\n",
    "        for user_no in duplicate_users.head(3).index:\n",
    "            user_data = multi_stage[multi_stage['user_No'] == user_no][['user_No', 'stage_count', 'donemonth', '이탈여부']]\n",
    "            print(f\"   User {user_no}:\")\n",
    "            print(user_data.to_string(index=False))\n",
    "            print()"
   ]
>>>>>>> origin/main
  }
 ],
 "metadata": {
  "kernelspec": {
   "display_name": "Python 3",
   "language": "python",
   "name": "python3"
  },
  "language_info": {
   "codemirror_mode": {
    "name": "ipython",
    "version": 3
   },
   "file_extension": ".py",
   "mimetype": "text/x-python",
   "name": "python",
   "nbconvert_exporter": "python",
   "pygments_lexer": "ipython3",
   "version": "3.10.11"
  }
 },
 "nbformat": 4,
 "nbformat_minor": 5
}
